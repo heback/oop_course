{
 "cells": [
  {
   "metadata": {},
   "cell_type": "markdown",
   "source": "# 클래스 객체",
   "id": "8ed82c4873c1d4a7"
  },
  {
   "metadata": {},
   "cell_type": "markdown",
   "source": "클래스는 데이터와 기능을 함께 묶는 방법을 제공",
   "id": "20b010195b783ba0"
  },
  {
   "metadata": {
    "ExecuteTime": {
     "end_time": "2024-06-23T11:48:25.338568Z",
     "start_time": "2024-06-23T11:48:25.333993Z"
    }
   },
   "cell_type": "code",
   "source": [
    "# 클래스 정의\n",
    "class MyClass:\n",
    "    \"\"\" docstring: A simple example class \"\"\"\n",
    "    i: int = 12345\n",
    "    \n",
    "    # 객체 상태 초기화\n",
    "    def __init__(self, j = 1234):\n",
    "        # 객체 상태(속성)\n",
    "        self.j = j\n",
    "        \n",
    "    # 객체 메서드    \n",
    "    def f(self) -> str:\n",
    "        return 'hello world'\n",
    "\n",
    "\n",
    "# 클래스 인스턴스\n",
    "instance = MyClass()\n",
    "print(instance.i)\n",
    "print(instance.j)\n",
    "print(instance.f())\n",
    "print(instance.__doc__)"
   ],
   "id": "3b4716375da4ce3",
   "outputs": [
    {
     "name": "stdout",
     "output_type": "stream",
     "text": [
      "12345\n",
      "1234\n",
      "hello world\n",
      " docstring: A simple example class \n"
     ]
    }
   ],
   "execution_count": 4
  },
  {
   "metadata": {},
   "cell_type": "markdown",
   "source": "# 이름공간",
   "id": "622d2ed9513153d4"
  },
  {
   "metadata": {},
   "cell_type": "markdown",
   "source": [
    "- local\n",
    "- nonlocal\n",
    "- global"
   ],
   "id": "485cfaede6f61c91"
  },
  {
   "metadata": {
    "ExecuteTime": {
     "end_time": "2024-06-23T11:58:52.929501Z",
     "start_time": "2024-06-23T11:58:52.924846Z"
    }
   },
   "cell_type": "code",
   "source": [
    "spam = 'outer spam' # global\n",
    "print(spam)\n",
    "\n",
    "def scope_test():\n",
    "    def do_local():\n",
    "        spam = \"local spam\"\n",
    "        print('Inner do_local(): ', spam)\n",
    "\n",
    "    def do_nonlocal():\n",
    "        nonlocal spam\n",
    "        spam = \"nonlocal spam\"\n",
    "\n",
    "    def do_global():\n",
    "        global spam\n",
    "        spam = \"global spam\"\n",
    "\n",
    "    spam = \"test spam\"\n",
    "    do_local()\n",
    "    print(\"After local assignment:\", spam)\n",
    "    do_nonlocal()\n",
    "    print(\"After nonlocal assignment:\", spam)\n",
    "    do_global()\n",
    "    print(\"After global assignment:\", spam)\n",
    "\n",
    "scope_test()\n",
    "print(\"In global scope:\", spam)"
   ],
   "id": "55799aa098af5179",
   "outputs": [
    {
     "name": "stdout",
     "output_type": "stream",
     "text": [
      "outer spam\n",
      "Inner do_local():  local spam\n",
      "After local assignment: test spam\n",
      "After nonlocal assignment: nonlocal spam\n",
      "After global assignment: nonlocal spam\n",
      "In global scope: global spam\n"
     ]
    }
   ],
   "execution_count": 9
  },
  {
   "metadata": {
    "ExecuteTime": {
     "end_time": "2024-06-23T13:12:40.616103Z",
     "start_time": "2024-06-23T13:12:40.613917Z"
    }
   },
   "cell_type": "code",
   "source": [
    "class Complex:\n",
    "    def __init__(self, realpart, imagpart):\n",
    "        self.r = realpart\n",
    "        self.i = imagpart"
   ],
   "id": "77c73e6c29cf6e05",
   "outputs": [],
   "execution_count": 10
  },
  {
   "metadata": {
    "ExecuteTime": {
     "end_time": "2024-06-23T13:12:46.484643Z",
     "start_time": "2024-06-23T13:12:46.481571Z"
    }
   },
   "cell_type": "code",
   "source": "x = Complex(3.0, -4.5)",
   "id": "25a04b0c583b5246",
   "outputs": [],
   "execution_count": 11
  },
  {
   "metadata": {
    "ExecuteTime": {
     "end_time": "2024-06-23T13:13:14.394083Z",
     "start_time": "2024-06-23T13:13:14.391470Z"
    }
   },
   "cell_type": "code",
   "source": "(x.i, x.r)",
   "id": "3171a75b63681a1f",
   "outputs": [
    {
     "data": {
      "text/plain": [
       "(-4.5, 3.0)"
      ]
     },
     "execution_count": 13,
     "metadata": {},
     "output_type": "execute_result"
    }
   ],
   "execution_count": 13
  },
  {
   "metadata": {},
   "cell_type": "markdown",
   "source": "# 클래스 변수, 인스턴스 변수",
   "id": "1cfe829ba2bba220"
  },
  {
   "metadata": {
    "ExecuteTime": {
     "end_time": "2024-06-23T13:45:01.838795Z",
     "start_time": "2024-06-23T13:45:01.835323Z"
    }
   },
   "cell_type": "code",
   "source": [
    "class Dog:\n",
    "\n",
    "    kind = 'canine'         # class variable shared by all instances\n",
    "\n",
    "    def __init__(self, name):\n",
    "        self.name = name    # instance variable unique to each instance"
   ],
   "id": "34739a9ee5663890",
   "outputs": [],
   "execution_count": 14
  },
  {
   "metadata": {
    "ExecuteTime": {
     "end_time": "2024-06-23T13:45:18.402337Z",
     "start_time": "2024-06-23T13:45:18.400180Z"
    }
   },
   "cell_type": "code",
   "source": [
    "d = Dog('Fido')\n",
    "e = Dog('Buddy')"
   ],
   "id": "ea26e671cf64794b",
   "outputs": [],
   "execution_count": 15
  },
  {
   "metadata": {
    "ExecuteTime": {
     "end_time": "2024-06-23T13:45:37.431493Z",
     "start_time": "2024-06-23T13:45:37.428760Z"
    }
   },
   "cell_type": "code",
   "source": "d.kind",
   "id": "810360ade32087bb",
   "outputs": [
    {
     "data": {
      "text/plain": [
       "'canine'"
      ]
     },
     "execution_count": 16,
     "metadata": {},
     "output_type": "execute_result"
    }
   ],
   "execution_count": 16
  },
  {
   "metadata": {
    "ExecuteTime": {
     "end_time": "2024-06-23T13:45:42.000912Z",
     "start_time": "2024-06-23T13:45:41.998101Z"
    }
   },
   "cell_type": "code",
   "source": "e.kind",
   "id": "81e1fdac197528da",
   "outputs": [
    {
     "data": {
      "text/plain": [
       "'canine'"
      ]
     },
     "execution_count": 17,
     "metadata": {},
     "output_type": "execute_result"
    }
   ],
   "execution_count": 17
  },
  {
   "metadata": {
    "ExecuteTime": {
     "end_time": "2024-06-23T13:45:48.730631Z",
     "start_time": "2024-06-23T13:45:48.727926Z"
    }
   },
   "cell_type": "code",
   "source": "d.name",
   "id": "8766d463070d3e73",
   "outputs": [
    {
     "data": {
      "text/plain": [
       "'Fido'"
      ]
     },
     "execution_count": 18,
     "metadata": {},
     "output_type": "execute_result"
    }
   ],
   "execution_count": 18
  },
  {
   "metadata": {
    "ExecuteTime": {
     "end_time": "2024-06-23T13:45:53.471663Z",
     "start_time": "2024-06-23T13:45:53.467909Z"
    }
   },
   "cell_type": "code",
   "source": "e.name",
   "id": "d1b9a3a2fb22b993",
   "outputs": [
    {
     "data": {
      "text/plain": [
       "'Buddy'"
      ]
     },
     "execution_count": 19,
     "metadata": {},
     "output_type": "execute_result"
    }
   ],
   "execution_count": 19
  },
  {
   "metadata": {},
   "cell_type": "markdown",
   "source": "# 클래스 변수",
   "id": "54fe490ad9190e3c"
  },
  {
   "metadata": {
    "ExecuteTime": {
     "end_time": "2024-06-23T13:47:20.404345Z",
     "start_time": "2024-06-23T13:47:20.401609Z"
    }
   },
   "cell_type": "code",
   "source": [
    "class Dog:\n",
    "\n",
    "    tricks = []             # mistaken use of a class variable\n",
    "\n",
    "    def __init__(self, name):\n",
    "        self.name = name\n",
    "\n",
    "    def add_trick(self, trick):\n",
    "        self.tricks.append(trick)"
   ],
   "id": "6f30ca42ce77e0a4",
   "outputs": [],
   "execution_count": 20
  },
  {
   "metadata": {
    "ExecuteTime": {
     "end_time": "2024-06-23T13:47:49.166661Z",
     "start_time": "2024-06-23T13:47:49.163267Z"
    }
   },
   "cell_type": "code",
   "source": [
    "d = Dog('Fido')\n",
    "e = Dog('Buddy')\n",
    "d.add_trick('roll over')\n",
    "e.add_trick('play dead')\n",
    "d.tricks                # unexpectedly shared by all dogs"
   ],
   "id": "4251dc277bc0bc1f",
   "outputs": [
    {
     "data": {
      "text/plain": [
       "['roll over', 'play dead']"
      ]
     },
     "execution_count": 21,
     "metadata": {},
     "output_type": "execute_result"
    }
   ],
   "execution_count": 21
  },
  {
   "metadata": {},
   "cell_type": "markdown",
   "source": "# 인스턴스 변수",
   "id": "bb6126db105d99f7"
  },
  {
   "metadata": {
    "ExecuteTime": {
     "end_time": "2024-06-23T13:52:33.711995Z",
     "start_time": "2024-06-23T13:52:33.708894Z"
    }
   },
   "cell_type": "code",
   "source": [
    "class Dog:\n",
    "\n",
    "    def __init__(self, name):\n",
    "        self.name = name\n",
    "        self.tricks = []    # creates a new empty list for each dog\n",
    "\n",
    "    def add_trick(self, trick):\n",
    "        self.tricks.append(trick)\n",
    "\n",
    "d = Dog('Fido')\n",
    "e = Dog('Buddy')\n",
    "d.add_trick('roll over')\n",
    "e.add_trick('play dead')\n",
    "print(d.tricks)\n",
    "print(e.tricks)\n"
   ],
   "id": "d3acfa12df9d9d2",
   "outputs": [
    {
     "name": "stdout",
     "output_type": "stream",
     "text": [
      "['roll over']\n",
      "['play dead']\n"
     ]
    }
   ],
   "execution_count": 22
  },
  {
   "metadata": {},
   "cell_type": "markdown",
   "source": "# 클래스 변수",
   "id": "cb2a7c3fbe34da84"
  },
  {
   "metadata": {},
   "cell_type": "markdown",
   "source": "클래스 변수는 모든 인스턴스에서 접근할 수 있다.",
   "id": "c1a104fd8f0803a5"
  },
  {
   "metadata": {
    "ExecuteTime": {
     "end_time": "2024-06-23T21:13:21.716514Z",
     "start_time": "2024-06-23T21:13:21.713712Z"
    }
   },
   "cell_type": "code",
   "source": [
    "class Warehouse:\n",
    "   purpose = 'storage'\n",
    "   region = 'west'"
   ],
   "id": "130537109927d5ae",
   "outputs": [],
   "execution_count": 23
  },
  {
   "metadata": {
    "ExecuteTime": {
     "end_time": "2024-06-23T21:13:38.768535Z",
     "start_time": "2024-06-23T21:13:38.765751Z"
    }
   },
   "cell_type": "code",
   "source": "Warehouse.region = 'east'",
   "id": "8ae489aa065cf45f",
   "outputs": [],
   "execution_count": 24
  },
  {
   "metadata": {
    "ExecuteTime": {
     "end_time": "2024-06-23T21:14:14.176323Z",
     "start_time": "2024-06-23T21:14:14.173162Z"
    }
   },
   "cell_type": "code",
   "source": [
    "w1 = Warehouse()\n",
    "print(w1.purpose, w1.region)"
   ],
   "id": "86c09655346679d",
   "outputs": [
    {
     "name": "stdout",
     "output_type": "stream",
     "text": [
      "storage east\n"
     ]
    }
   ],
   "execution_count": 26
  },
  {
   "metadata": {
    "ExecuteTime": {
     "end_time": "2024-06-23T21:14:39.631686Z",
     "start_time": "2024-06-23T21:14:39.629713Z"
    }
   },
   "cell_type": "code",
   "source": [
    "w1.region = 'west'\n",
    "print(w1.purpose, w1.region)"
   ],
   "id": "7ca82719ad761a3d",
   "outputs": [
    {
     "name": "stdout",
     "output_type": "stream",
     "text": [
      "storage west\n"
     ]
    }
   ],
   "execution_count": 27
  },
  {
   "metadata": {},
   "cell_type": "markdown",
   "source": "# 클래스 외부에 메서드 정의",
   "id": "bce727088f88a73"
  },
  {
   "metadata": {},
   "cell_type": "markdown",
   "source": "함수 객체를 클래스의 지역 변수로 대입하는 것 역시 가능하다",
   "id": "2515aa21ea229515"
  },
  {
   "metadata": {
    "ExecuteTime": {
     "end_time": "2024-06-23T21:23:00.686392Z",
     "start_time": "2024-06-23T21:23:00.683438Z"
    }
   },
   "cell_type": "code",
   "source": [
    "# Function defined outside the class\n",
    "def f1(self, x, y):\n",
    "    return min(x, x+y)\n",
    "\n",
    "class C:\n",
    "    f = f1\n",
    "\n",
    "    def g(self):\n",
    "        return 'hello world'\n",
    "\n",
    "    h = g"
   ],
   "id": "ec9e309d8f7fee34",
   "outputs": [],
   "execution_count": 30
  },
  {
   "metadata": {},
   "cell_type": "markdown",
   "source": "# self",
   "id": "194a668a72afb0cf"
  },
  {
   "metadata": {},
   "cell_type": "markdown",
   "source": " self 는 파이썬에서 아무런 특별한 의미를 갖지 않는다.",
   "id": "c5f0421c16635595"
  },
  {
   "metadata": {
    "ExecuteTime": {
     "end_time": "2024-06-23T21:18:47.225931Z",
     "start_time": "2024-06-23T21:18:47.223198Z"
    }
   },
   "cell_type": "code",
   "source": [
    "class Bag:\n",
    "    def __init__(this):\n",
    "        this.data = []\n",
    "\n",
    "    def add(this, x):\n",
    "        this.data.append(x)\n",
    "\n",
    "    def addtwice(this, x):\n",
    "        this.add(x)\n",
    "        this.add(x)\n",
    "        \n",
    "\n",
    "b = Bag()\n",
    "b.add(1)\n",
    "b.addtwice(2)"
   ],
   "id": "b7cf48561350dfcc",
   "outputs": [],
   "execution_count": 28
  },
  {
   "metadata": {
    "ExecuteTime": {
     "end_time": "2024-06-23T21:19:02.219944Z",
     "start_time": "2024-06-23T21:19:02.217961Z"
    }
   },
   "cell_type": "code",
   "source": "print(b.data)",
   "id": "70b03d870b21b18",
   "outputs": [
    {
     "name": "stdout",
     "output_type": "stream",
     "text": [
      "[1, 2, 2]\n"
     ]
    }
   ],
   "execution_count": 29
  },
  {
   "metadata": {},
   "cell_type": "code",
   "outputs": [],
   "execution_count": null,
   "source": "",
   "id": "1f2ef6b9b11ca11e"
  }
 ],
 "metadata": {
  "kernelspec": {
   "display_name": "Python 3",
   "language": "python",
   "name": "python3"
  },
  "language_info": {
   "codemirror_mode": {
    "name": "ipython",
    "version": 2
   },
   "file_extension": ".py",
   "mimetype": "text/x-python",
   "name": "python",
   "nbconvert_exporter": "python",
   "pygments_lexer": "ipython2",
   "version": "2.7.6"
  }
 },
 "nbformat": 4,
 "nbformat_minor": 5
}
